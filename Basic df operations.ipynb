{
 "cells": [
  {
   "cell_type": "code",
   "execution_count": 1,
   "metadata": {},
   "outputs": [],
   "source": [
    "import pandas as pd"
   ]
  },
  {
   "cell_type": "code",
   "execution_count": 33,
   "metadata": {},
   "outputs": [
    {
     "name": "stdout",
     "output_type": "stream",
     "text": [
      "     A   B\n",
      "0  420  50\n",
      "1  380  40\n",
      "2  390  45\n"
     ]
    }
   ],
   "source": [
    "df = pd.DataFrame({\n",
    "  \"A\": [420, 380, 390],\n",
    "  \"B\": [50, 40, 45]\n",
    "})\n",
    "\n",
    "print(df)"
   ]
  },
  {
   "cell_type": "code",
   "execution_count": 34,
   "metadata": {},
   "outputs": [
    {
     "name": "stdout",
     "output_type": "stream",
     "text": [
      "     A   B      C\n",
      "0  420  50  21000\n",
      "1  380  40  15200\n",
      "2  390  45  17550\n"
     ]
    }
   ],
   "source": [
    "#How to create new columns derived from existing columns in Pandas?\n",
    "df[\"C\"]=df[\"A\"] * df[\"B\"]\n",
    "print(df)"
   ]
  },
  {
   "cell_type": "code",
   "execution_count": 23,
   "metadata": {},
   "outputs": [
    {
     "name": "stdout",
     "output_type": "stream",
     "text": [
      "     A   B      C\n",
      "0  420  50   True\n",
      "1  380  40  False\n",
      "2  390  45   True\n",
      "     A   B  C\n",
      "0  420  50  1\n",
      "1  380  40  0\n",
      "2  390  45  1\n"
     ]
    }
   ],
   "source": [
    "#A column in a df has boolean True/False values, \n",
    "#but for further calculations, we need 1/0 representation. How would you transform it?\n",
    "df1 = pd.DataFrame({\n",
    "  \"A\": [420, 380, 390],\n",
    "  \"B\": [50, 40, 45],\n",
    "    \"C\" :[True,False,True]\n",
    "})\n",
    "print(df1)\n",
    "df1[\"C\"]=df1[\"C\"].astype(int)\n",
    "print(df1)"
   ]
  },
  {
   "cell_type": "code",
   "execution_count": 31,
   "metadata": {},
   "outputs": [
    {
     "name": "stdout",
     "output_type": "stream",
     "text": [
      "A\n",
      "B\n",
      "C\n"
     ]
    }
   ],
   "source": [
    "#Describe how you will get the names of columns of a DataFrame in Pandas\n",
    "for col in df1.columns:\n",
    "    print(col)"
   ]
  },
  {
   "cell_type": "code",
   "execution_count": null,
   "metadata": {},
   "outputs": [],
   "source": []
  }
 ],
 "metadata": {
  "kernelspec": {
   "display_name": "Python 3",
   "language": "python",
   "name": "python3"
  },
  "language_info": {
   "codemirror_mode": {
    "name": "ipython",
    "version": 3
   },
   "file_extension": ".py",
   "mimetype": "text/x-python",
   "name": "python",
   "nbconvert_exporter": "python",
   "pygments_lexer": "ipython3",
   "version": "3.7.4"
  }
 },
 "nbformat": 4,
 "nbformat_minor": 2
}
